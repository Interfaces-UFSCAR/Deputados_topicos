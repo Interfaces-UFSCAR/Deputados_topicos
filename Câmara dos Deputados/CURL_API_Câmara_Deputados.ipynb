{
  "cells": [
    {
      "cell_type": "code",
      "execution_count": null,
      "metadata": {
        "colab": {
          "base_uri": "https://localhost:8080/"
        },
        "id": "z3ja4Tc_nsLZ",
        "outputId": "1ec7dba0-2ea6-4267-f908-9f6a512526a4"
      },
      "outputs": [],
      "source": [
        "#!pip install nltk"
      ]
    },
    {
      "cell_type": "code",
      "execution_count": null,
      "metadata": {
        "colab": {
          "base_uri": "https://localhost:8080/"
        },
        "id": "qY4Jn23nnw7T",
        "outputId": "889ee7b0-dc74-4345-df51-309bd88dbb74"
      },
      "outputs": [],
      "source": [
        "import nltk\n",
        "nltk.download('stopwords')\n",
        "nltk.download('punkt')\n",
        "from nltk.corpus import stopwords\n",
        "\n",
        "stop_words = set(stopwords.words('portuguese'))\n",
        "\n",
        "frases = \"Esta é a primeira frase, eu, você, o Zubumafu, vossa senhoria e o senhor, sou a frase 1.\"\n",
        "palavras = nltk.word_tokenize(frases)\n",
        "palavras = [palavra.lower() for palavra in palavras]\n",
        "\n",
        "for palavra in palavras:\n",
        "  if palavra not in stop_words:\n",
        "    print(palavra) # Problema de não retirar palavras como vossa senhoria, senhor \n",
        "    # e outros tratamentos, que são muito comuns nos textos da Câmara dos Deputados\n",
        "    # talvez tenhamos que criar uma lista com tais palavras para retirar de modo\n",
        "    # manual"
      ]
    },
    {
      "cell_type": "code",
      "execution_count": 6,
      "metadata": {
        "id": "CI6nv3ScFBDS"
      },
      "outputs": [],
      "source": [
        "import requests\n",
        "from requests.structures import CaseInsensitiveDict\n",
        "import urllib.parse\n",
        "import time"
      ]
    },
    {
      "cell_type": "code",
      "execution_count": 7,
      "metadata": {
        "id": "MxuJrWcdIGC0"
      },
      "outputs": [],
      "source": [
        "def reqPartidos(sigla:list = [], dataInicio: str = \"\", dataFim:str = \"\", idLegislatura:list = [], ordem:str = \"ASC\", ordenarPor:str = \"sigla\") -> list:\n",
        "  if sigla is reqPartidos.__defaults__[0] and dataInicio is reqPartidos.__defaults__[1] \\\n",
        "  and dataFim is reqPartidos.__defaults__[2] and idLegislatura is reqPartidos.__defaults__[3] \\\n",
        "  and ordem is reqPartidos.__defaults__[4] and ordenarPor is reqPartidos.__defaults__[5]:\n",
        "    # Se os parâmetros estiverem default, utiliza a URL gerada automaticamente pela API da Câmara dos deputados\n",
        "    url_list = []\n",
        "    url_base = \"https://dadosabertos.camara.leg.br/api/v2/partidos?ordem=ASC&ordenarPor=sigla\"\n",
        "    url_list.append(url_base)\n",
        "\n",
        "  else:\n",
        "    url_list = []\n",
        "    url_base = \"https://dadosabertos.camara.leg.br/api/v2/partidos?\"\n",
        "    url_list.append(url_base)\n",
        "\n",
        "    # Geração dos parâmetros necessários\n",
        "    params = {}\n",
        "\n",
        "    if sigla is not reqPartidos.__defaults__[0]:\n",
        "      params[\"sigla\"] = sigla\n",
        "\n",
        "    if dataInicio is not reqPartidos.__defaults__[1]:\n",
        "      params[\"dataInicio\"] = dataInicio\n",
        "\n",
        "    if dataFim is not reqPartidos.__defaults__[2]:\n",
        "      params[\"dataFim\"] = dataFim\n",
        "    \n",
        "    if idLegislatura is not reqPartidos.__defaults__[3]:\n",
        "      params[\"idLegislatura\"] = [str(id) for id in idLegislatura]\n",
        "\n",
        "    params[\"ordem\"] = ordem\n",
        "    params[\"ordenarPor\"] = ordenarPor\n",
        "    query = urllib.parse.urlencode(params, doseq=True)\n",
        "    url_list.append(query)\n",
        "  url = ''.join(url_list)\n",
        "  # Neste ponto temos a URL pronta para a criação do primeiro get\n",
        "\n",
        "  headers = CaseInsensitiveDict()\n",
        "  headers[\"accept\"] = \"application/json\"\n",
        "  resps = []\n",
        "  resps.append(requests.get(url, headers=headers))\n",
        "  i = 0\n",
        "  # Primeira resposta da API obtida\n",
        "\n",
        "  # O sistema sabe quando parar baseado na existência, ou não, de um campo 'next'\n",
        "  #   dentro de cada um dos links dos headers das páginas\n",
        "  # PROCURAR SE NÃO HÁ UM MEIO MAIS OTIMIZADO PARA FAZER TAIS REQUISIÇÕES\n",
        "  while \"next\" in resps[i].links:\n",
        "    next_request = resps[i].links[\"next\"][\"url\"]\n",
        "    resps.append(requests.get(next_request, headers=headers))\n",
        "    i += 1\n",
        "  # Neste ponto temos todas as respostas de requisições possíveis para a página requisitada\n",
        "\n",
        "  # Parte para extração dos IDs das respostas armazenadas\n",
        "  ids = []\n",
        "  for resp in resps: # Para cada resposta\n",
        "    if resp.status_code >= 200 and resp.status_code < 300:\n",
        "      for id in resp.json()[\"dados\"]: # Para cada conjunto de dados dentro de uma resposta\n",
        "        ids.append(id[\"id\"]) # Adiciona o valor do ID a lista criada,\n",
        "        #   que será o valor retornado por este algoritmo\n",
        "  return ids\n",
        "  # Retorna uma lista com os valores em formato de inteiros,\n",
        "  #   é preciso nesse caso realizar a conversão mais tarde\n"
      ]
    },
    {
      "cell_type": "code",
      "execution_count": 8,
      "metadata": {
        "id": "DLoqWhwGZ6yz"
      },
      "outputs": [],
      "source": [
        "def reqMembros(idsPartidos:list, dataInicio: str = \"\", dataFim: str = \"\", idLegislatura: list = [], ordenarPor: str = \"\", ordem:str = \"ASC\") -> list:\n",
        "  if idsPartidos == []:\n",
        "    raise Exception(\"A lista de IDs de partidos não pode ser vazia\")\n",
        "  url_list = []\n",
        "  resps = []\n",
        "  url_base = \"https://dadosabertos.camara.leg.br/api/v2/partidos/{id}/membros\"\n",
        "  url_list.append(url_base)\n",
        "  params = {}\n",
        "\n",
        "  if dataInicio is not reqMembros.__defaults__[0]:\n",
        "    params[\"dataInicio\"] = dataInicio\n",
        "\n",
        "  if dataFim is not reqMembros.__defaults__[1]:\n",
        "    params[\"dataFim\"] = dataFim\n",
        "\n",
        "  if idLegislatura is not reqMembros.__defaults__[2]:\n",
        "    params[\"idLegislatura\"] = [str(id) for id in idLegislatura]\n",
        "\n",
        "  if ordenarPor is not reqMembros.__defaults__[3]:\n",
        "    params[\"ordenarPor\"] = ordenarPor\n",
        "  \n",
        "  params[\"ordem\"] = ordem\n",
        "  #print(params)\n",
        "  query = urllib.parse.urlencode(params, doseq=True)\n",
        "  if query != '':\n",
        "    url_list.append(\"?\")\n",
        "  url_list.append(query)\n",
        "  url_id = ''.join(url_list)\n",
        "\n",
        "  # Para cada partido\n",
        "  for idPartido in idsPartidos:\n",
        "    url = url_id.format(id = idPartido)\n",
        "    i = 0\n",
        "    headers = CaseInsensitiveDict()\n",
        "    headers[\"accept\"] = \"application/json\"\n",
        "    resps.append(requests.get(url, headers=headers))\n",
        "    #print(url)\n",
        "    #print(resps[i].json())\n",
        "    \n",
        "    # Para cada página de requisição existente para aquele partido\n",
        "    while \"next\" in resps[i].links:\n",
        "      next_request = resps[i].links[\"next\"][\"url\"]\n",
        "      #print(next_request)\n",
        "      resps.append(requests.get(next_request, headers=headers))\n",
        "      i += 1\n",
        "# Necessidade de tratar pois a API pode retornar partidos que não tenham ninguém \\\n",
        "#   eleito na Câmara dos Deputados, mesmo que se tenha pedido para retornar somente \\\n",
        "#   Partidos que contenham pessoas na Câmara dos deputados no momento da requisição\n",
        "# Verificação pode ser feita pela ideia de listas vazias na chave \"dados\" do json \\\n",
        "#   da resposta\n",
        "  lista_deputados = []\n",
        "  #print(resps)\n",
        "  for i in resps:\n",
        "    if i.status_code  >= 200 and i.status_code <300:\n",
        "      for j in i.json()[\"dados\"]:\n",
        "        lista_deputados.append(j[\"id\"])\n",
        "  return lista_deputados"
      ]
    },
    {
      "cell_type": "code",
      "execution_count": 9,
      "metadata": {
        "id": "qRmbvbpPzW_V"
      },
      "outputs": [],
      "source": [
        "def reqDiscursos(deputados: list, idLegislatura: list = [], dataInicio: str = \"\", dataFim: str = \"\", ordenarPor: str = \"dataHoraInicio\", ordem: str = \"ASC\")->list:\n",
        "  if deputados is []:\n",
        "    raise Exception(\"A lista de deputados a pegar o discurso não pode ser vazia\")\n",
        "  # Criação da URL a ser requisitada\n",
        "  url_list = []\n",
        "  resps = []\n",
        "  url_base = \"https://dadosabertos.camara.leg.br/api/v2/deputados/{id}/discursos\"\n",
        "  url_list.append(url_base)\n",
        "\n",
        "  params = {}\n",
        "\n",
        "  if idLegislatura is not reqDiscursos.__defaults__[0]:\n",
        "    params[\"idLegislatura\"] = [str(id) for id in idLegislatura]\n",
        "\n",
        "  if dataInicio is not reqDiscursos.__defaults__[1]:\n",
        "    params[\"dataInicio\"] = dataInicio\n",
        "\n",
        "  if dataFim is not reqDiscursos.__defaults__[2]:\n",
        "    params[\"dataFim\"] = dataFim\n",
        "\n",
        "  if ordenarPor is not reqDiscursos.__defaults__[3]:\n",
        "    params[\"ordenarPor\"] = ordenarPor\n",
        "\n",
        "  params[\"ordem\"] = ordem\n",
        "\n",
        "  query = urllib.parse.urlencode(params, doseq=True)\n",
        "  if query != '':\n",
        "    url_list.append(\"?\")\n",
        "  url_list.append(query)\n",
        "  url_id = ''.join(url_list)\n",
        "\n",
        "  for deputado in deputados:\n",
        "    url = url_id.format(id = deputado)\n",
        "    i = 0\n",
        "    headers = CaseInsensitiveDict()\n",
        "    headers[\"accept\"] = \"application/json\"\n",
        "    resps.append(requests.get(url, headers = headers))\n",
        "\n",
        "    while \"next\" in resps[i].links:\n",
        "      next_request = resps[i].links[\"next\"][\"url\"]\n",
        "      resps.append(requests.get(next_request, headers=headers))\n",
        "      i += 1\n",
        "  lista_discursos = []\n",
        "  for i in resps:\n",
        "    print(i.json())"
      ]
    },
    {
      "cell_type": "code",
      "execution_count": 13,
      "metadata": {
        "colab": {
          "base_uri": "https://localhost:8080/",
          "height": 1000
        },
        "id": "Lg7ypNIy7Rvk",
        "outputId": "8b1ea0a9-e9f4-4684-c41b-0e2ac78c136e"
      },
      "outputs": [
        {
          "name": "stdout",
          "output_type": "stream",
          "text": [
            "O tempo para conseguir os partidos a partir das siglas foi de: 0.35167551040649414\n",
            "[]\n"
          ]
        },
        {
          "ename": "Exception",
          "evalue": "A lista de IDs de partidos não pode ser vazia",
          "output_type": "error",
          "traceback": [
            "\u001b[0;31m---------------------------------------------------------------------------\u001b[0m",
            "\u001b[0;31mException\u001b[0m                                 Traceback (most recent call last)",
            "\u001b[0;32m/tmp/ipykernel_34088/4224195112.py\u001b[0m in \u001b[0;36m<module>\u001b[0;34m\u001b[0m\n\u001b[1;32m      9\u001b[0m \u001b[0;34m\u001b[0m\u001b[0m\n\u001b[1;32m     10\u001b[0m \u001b[0minicio\u001b[0m  \u001b[0;34m=\u001b[0m \u001b[0mtime\u001b[0m\u001b[0;34m.\u001b[0m\u001b[0mtime\u001b[0m\u001b[0;34m(\u001b[0m\u001b[0;34m)\u001b[0m\u001b[0;34m\u001b[0m\u001b[0;34m\u001b[0m\u001b[0m\n\u001b[0;32m---> 11\u001b[0;31m \u001b[0mmembros\u001b[0m \u001b[0;34m=\u001b[0m \u001b[0mreqMembros\u001b[0m\u001b[0;34m(\u001b[0m\u001b[0mpartidos\u001b[0m\u001b[0;34m,\u001b[0m \u001b[0mdataInicio\u001b[0m\u001b[0;34m=\u001b[0m\u001b[0;34m\"2022-01-01\"\u001b[0m\u001b[0;34m)\u001b[0m\u001b[0;34m\u001b[0m\u001b[0;34m\u001b[0m\u001b[0m\n\u001b[0m\u001b[1;32m     12\u001b[0m \u001b[0mfim\u001b[0m \u001b[0;34m=\u001b[0m \u001b[0mtime\u001b[0m\u001b[0;34m.\u001b[0m\u001b[0mtime\u001b[0m\u001b[0;34m(\u001b[0m\u001b[0;34m)\u001b[0m\u001b[0;34m\u001b[0m\u001b[0;34m\u001b[0m\u001b[0m\n\u001b[1;32m     13\u001b[0m \u001b[0mprint\u001b[0m\u001b[0;34m(\u001b[0m\u001b[0;34m\"O tempo para conseguir os membros dos partidos a partir dos ids dos partidos foi de: \"\u001b[0m \u001b[0;34m+\u001b[0m \u001b[0mstr\u001b[0m\u001b[0;34m(\u001b[0m\u001b[0mfim\u001b[0m\u001b[0;34m-\u001b[0m\u001b[0minicio\u001b[0m\u001b[0;34m)\u001b[0m\u001b[0;34m)\u001b[0m\u001b[0;34m\u001b[0m\u001b[0;34m\u001b[0m\u001b[0m\n",
            "\u001b[0;32m/tmp/ipykernel_34088/3050422169.py\u001b[0m in \u001b[0;36mreqMembros\u001b[0;34m(idsPartidos, dataInicio, dataFim, idLegislatura, ordenarPor, ordem)\u001b[0m\n\u001b[1;32m      1\u001b[0m \u001b[0;32mdef\u001b[0m \u001b[0mreqMembros\u001b[0m\u001b[0;34m(\u001b[0m\u001b[0midsPartidos\u001b[0m\u001b[0;34m:\u001b[0m\u001b[0mlist\u001b[0m\u001b[0;34m,\u001b[0m \u001b[0mdataInicio\u001b[0m\u001b[0;34m:\u001b[0m \u001b[0mstr\u001b[0m \u001b[0;34m=\u001b[0m \u001b[0;34m\"\"\u001b[0m\u001b[0;34m,\u001b[0m \u001b[0mdataFim\u001b[0m\u001b[0;34m:\u001b[0m \u001b[0mstr\u001b[0m \u001b[0;34m=\u001b[0m \u001b[0;34m\"\"\u001b[0m\u001b[0;34m,\u001b[0m \u001b[0midLegislatura\u001b[0m\u001b[0;34m:\u001b[0m \u001b[0mlist\u001b[0m \u001b[0;34m=\u001b[0m \u001b[0;34m[\u001b[0m\u001b[0;34m]\u001b[0m\u001b[0;34m,\u001b[0m \u001b[0mordenarPor\u001b[0m\u001b[0;34m:\u001b[0m \u001b[0mstr\u001b[0m \u001b[0;34m=\u001b[0m \u001b[0;34m\"\"\u001b[0m\u001b[0;34m,\u001b[0m \u001b[0mordem\u001b[0m\u001b[0;34m:\u001b[0m\u001b[0mstr\u001b[0m \u001b[0;34m=\u001b[0m \u001b[0;34m\"ASC\"\u001b[0m\u001b[0;34m)\u001b[0m \u001b[0;34m->\u001b[0m \u001b[0mlist\u001b[0m\u001b[0;34m:\u001b[0m\u001b[0;34m\u001b[0m\u001b[0;34m\u001b[0m\u001b[0m\n\u001b[1;32m      2\u001b[0m   \u001b[0;32mif\u001b[0m \u001b[0midsPartidos\u001b[0m \u001b[0;34m==\u001b[0m \u001b[0;34m[\u001b[0m\u001b[0;34m]\u001b[0m\u001b[0;34m:\u001b[0m\u001b[0;34m\u001b[0m\u001b[0;34m\u001b[0m\u001b[0m\n\u001b[0;32m----> 3\u001b[0;31m     \u001b[0;32mraise\u001b[0m \u001b[0mException\u001b[0m\u001b[0;34m(\u001b[0m\u001b[0;34m\"A lista de IDs de partidos não pode ser vazia\"\u001b[0m\u001b[0;34m)\u001b[0m\u001b[0;34m\u001b[0m\u001b[0;34m\u001b[0m\u001b[0m\n\u001b[0m\u001b[1;32m      4\u001b[0m   \u001b[0murl_list\u001b[0m \u001b[0;34m=\u001b[0m \u001b[0;34m[\u001b[0m\u001b[0;34m]\u001b[0m\u001b[0;34m\u001b[0m\u001b[0;34m\u001b[0m\u001b[0m\n\u001b[1;32m      5\u001b[0m   \u001b[0mresps\u001b[0m \u001b[0;34m=\u001b[0m \u001b[0;34m[\u001b[0m\u001b[0;34m]\u001b[0m\u001b[0;34m\u001b[0m\u001b[0;34m\u001b[0m\u001b[0m\n",
            "\u001b[0;31mException\u001b[0m: A lista de IDs de partidos não pode ser vazia"
          ]
        }
      ],
      "source": [
        "idLegislatura = [52]\n",
        "partidos = [\"PT\"]\n",
        "\n",
        "inicio = time.time()\n",
        "partidos = reqPartidos(sigla = partidos, dataInicio = \"2022-01-01\")\n",
        "fim = time.time()\n",
        "print(\"O tempo para conseguir os partidos a partir das siglas foi de: \" + str(fim-inicio))\n",
        "print(partidos)\n",
        "\n",
        "inicio  = time.time()\n",
        "membros = reqMembros(partidos, dataInicio=\"2022-01-01\")\n",
        "fim = time.time()\n",
        "print(\"O tempo para conseguir os membros dos partidos a partir dos ids dos partidos foi de: \" + str(fim-inicio))\n",
        "print(membros)\n",
        "\n",
        "inicio = time.time()\n",
        "reqDiscursos(deputados=membros, dataInicio=\"2022-01-01\")\n",
        "fim = time.time()\n",
        "print(\"O tempo para conseguir os discursos a partir dos deputados foi de: \" + str(fim-inicio))"
      ]
    }
  ],
  "metadata": {
    "colab": {
      "collapsed_sections": [],
      "provenance": []
    },
    "kernelspec": {
      "display_name": "Python 3.8.10 64-bit",
      "language": "python",
      "name": "python3"
    },
    "language_info": {
      "codemirror_mode": {
        "name": "ipython",
        "version": 3
      },
      "file_extension": ".py",
      "mimetype": "text/x-python",
      "name": "python",
      "nbconvert_exporter": "python",
      "pygments_lexer": "ipython3",
      "version": "3.10.6 (main, Nov 14 2022, 16:10:14) [GCC 11.3.0]"
    },
    "vscode": {
      "interpreter": {
        "hash": "916dbcbb3f70747c44a77c7bcd40155683ae19c65e1c03b4aa3499c5328201f1"
      }
    }
  },
  "nbformat": 4,
  "nbformat_minor": 0
}
