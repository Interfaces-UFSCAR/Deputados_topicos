{
 "cells": [
  {
   "cell_type": "code",
   "execution_count": 1,
   "metadata": {},
   "outputs": [
    {
     "name": "stdout",
     "output_type": "stream",
     "text": [
      "Requirement already satisfied: nltk in ./env/lib/python3.10/site-packages (3.8.1)\n",
      "Requirement already satisfied: regex>=2021.8.3 in ./env/lib/python3.10/site-packages (from nltk) (2022.10.31)\n",
      "Requirement already satisfied: tqdm in ./env/lib/python3.10/site-packages (from nltk) (4.65.0)\n",
      "Requirement already satisfied: joblib in ./env/lib/python3.10/site-packages (from nltk) (1.2.0)\n",
      "Requirement already satisfied: click in ./env/lib/python3.10/site-packages (from nltk) (8.1.3)\n"
     ]
    }
   ],
   "source": [
    "!python3 -m pip install nltk"
   ]
  },
  {
   "cell_type": "code",
   "execution_count": 2,
   "metadata": {},
   "outputs": [
    {
     "name": "stderr",
     "output_type": "stream",
     "text": [
      "[nltk_data] Downloading package stopwords to\n",
      "[nltk_data]     /home/matteusgui/nltk_data...\n",
      "[nltk_data]   Package stopwords is already up-to-date!\n",
      "[nltk_data] Downloading package punkt to /home/matteusgui/nltk_data...\n"
     ]
    },
    {
     "name": "stdout",
     "output_type": "stream",
     "text": [
      "olá\n",
      ",\n",
      "nome\n",
      "matteus\n",
      "guilherme\n",
      "souza\n",
      ",\n",
      "estudante\n",
      "engenharia\n",
      "computação\n",
      ".\n",
      "vossa\n",
      "senhoria\n",
      ",\n",
      "irei\n",
      "cair\n",
      "perante\n",
      "demais\n",
      "corridas\n",
      "senhor\n"
     ]
    },
    {
     "name": "stderr",
     "output_type": "stream",
     "text": [
      "[nltk_data]   Package punkt is already up-to-date!\n"
     ]
    }
   ],
   "source": [
    "import nltk\n",
    "nltk.download(\"stopwords\")\n",
    "nltk.download(\"punkt\")\n",
    "from nltk.corpus import stopwords\n",
    "\n",
    "stop_words = set(stopwords.words(\"portuguese\"))\n",
    "\n",
    "frases = \"Olá, meu nome é Matteus Guilherme de Souza, eu sou estudante de Engenharia de Computação. Vossa Senhoria, eu não irei cair perante as demais corridas do Senhor\"\n",
    "palavras = nltk.word_tokenize(frases)\n",
    "palavras = [palavra.lower() for palavra in palavras]\n",
    "\n",
    "for palavra in palavras:\n",
    "    if palavra not in stop_words:\n",
    "        print(palavra)\n",
    "        # Problema de não retirar palavras como \"vossa senhoria\" e \"senhor\"\n",
    "        # e outros tratamentos, que são muito comuns nos textos da Câmara dos Deputados\n",
    "        # talvez haja necessidade de criar uma lista de palavras\n",
    "        # Necessidade de tratar as aparições de presidente em diversos contextos\n"
   ]
  },
  {
   "cell_type": "code",
   "execution_count": 3,
   "metadata": {},
   "outputs": [
    {
     "name": "stdout",
     "output_type": "stream",
     "text": [
      "['MEU NOME ', ' PCDoB - SP', ' - Eu sou o maior de todos\\rJOSÉ DA SILVA ', 'PT- MA', ' EU sim sou o maior de todos, não há questionamentos']\n"
     ]
    }
   ],
   "source": [
    "import re\n",
    "teste = \"MEU NOME ( PCDoB - SP) - Eu sou o maior de todos\\rJOSÉ DA SILVA (PT- MA) EU sim sou o maior de todos, não há questionamentos\"\n",
    "lista = re.split(r'[()]', teste)\n",
    "print(lista)"
   ]
  },
  {
   "cell_type": "code",
   "execution_count": 4,
   "metadata": {},
   "outputs": [
    {
     "name": "stdout",
     "output_type": "stream",
     "text": [
      "[' - Eu sou o maior de todos\\rJOSÉ DA SILVA ', ' EU sim sou o maior de todos, não há questionamentos']\n"
     ]
    }
   ],
   "source": [
    "lista2 = []\n",
    "for i, palavra in enumerate(lista):\n",
    "    if not(i == 0 or i % 2 == 1):\n",
    "        lista2.append(palavra)\n",
    "print(lista2)\n",
    "lista2 = \"\".join(lista2)"
   ]
  },
  {
   "cell_type": "code",
   "execution_count": null,
   "metadata": {},
   "outputs": [],
   "source": [
    "import nltk\n",
    "nltk.download(\"stopwords\")\n",
    "nltk.download(\"punkt\")\n",
    "from nltk.corpus import stopwords\n",
    "\n",
    "palavras = nltk.word_tokenize(lista2)"
   ]
  }
 ],
 "metadata": {
  "kernelspec": {
   "display_name": "Python 3.8.10 64-bit",
   "language": "python",
   "name": "python3"
  },
  "language_info": {
   "codemirror_mode": {
    "name": "ipython",
    "version": 3
   },
   "file_extension": ".py",
   "mimetype": "text/x-python",
   "name": "python",
   "nbconvert_exporter": "python",
   "pygments_lexer": "ipython3",
   "version": "3.10.6"
  },
  "orig_nbformat": 4,
  "vscode": {
   "interpreter": {
    "hash": "916dbcbb3f70747c44a77c7bcd40155683ae19c65e1c03b4aa3499c5328201f1"
   }
  }
 },
 "nbformat": 4,
 "nbformat_minor": 2
}
